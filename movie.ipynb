{
 "cells": [
  {
   "cell_type": "code",
   "execution_count": 1,
   "metadata": {},
   "outputs": [],
   "source": [
    "import numpy as np\n",
    "import pyaudio\n",
    "import cv2\n",
    "import time"
   ]
  },
  {
   "cell_type": "markdown",
   "metadata": {},
   "source": [
    "### 設定"
   ]
  },
  {
   "cell_type": "code",
   "execution_count": 2,
   "metadata": {},
   "outputs": [],
   "source": [
    "# サンプリングレートとチャンクサイズの設定\n",
    "RATE = 44100\n",
    "CHUNK = 1024\n",
    "\n",
    "# PyAudioの初期化\n",
    "p = pyaudio.PyAudio()\n",
    "\n",
    "# 左マイクと右マイクのストリームを作成\n",
    "stream_left = p.open(format=pyaudio.paInt16, channels=1, rate=RATE, input=True, input_device_index=0, frames_per_buffer=CHUNK)\n",
    "stream_right = p.open(format=pyaudio.paInt16, channels=1, rate=RATE, input=True, input_device_index=1, frames_per_buffer=CHUNK)"
   ]
  },
  {
   "cell_type": "markdown",
   "metadata": {},
   "source": [
    "### 関数定義"
   ]
  },
  {
   "cell_type": "code",
   "execution_count": 3,
   "metadata": {},
   "outputs": [],
   "source": [
    "def get_audio_data(stream):\n",
    "    \"\"\"\n",
    "    音声データの取得\\n\n",
    "    parameters \n",
    "    ---\n",
    "    stream _Stream : camera frame object\n",
    "    \"\"\"\n",
    "    audio_data = stream.read(CHUNK)\n",
    "    audio_data = np.frombuffer(audio_data, dtype=np.int16)\n",
    "    return audio_data\n",
    "\n",
    "def determine_sound_direction(left_data, right_data):\n",
    "    \"\"\"音源の方向を特定\\n\n",
    "    prameters\n",
    "    ---\n",
    "    left_data audio1 : audio data\n",
    "    right_data audio2 : audio data\n",
    "    \"\"\"\n",
    "    # 左右の信号の相関を計算\n",
    "    correlation = np.correlate(left_data, right_data, 'full')\n",
    "    delay = np.argmax(correlation) - (len(right_data) - 1)\n",
    "    # 音源がどちらにあるかを判定\n",
    "    if delay > 0: return \"Left\", delay\n",
    "    elif delay < 0: return \"Right\", delay\n",
    "    else: return \"Center\", delay\n",
    "    \n",
    "def calculate_decibels(audio_data):\n",
    "    \"\"\"デシベルを計算\\n\n",
    "    Parameters\n",
    "    ---\n",
    "    audio_data numpy array : audio data\n",
    "    \"\"\"\n",
    "    rms = np.sqrt(np.mean(np.square(audio_data)))\n",
    "    decibels = 20 * np.log10(rms) if rms > 0 else -np.inf\n",
    "    return decibels\n",
    "\n",
    "def calculate_position(frame, direction, delay, mic_distance=0.2):\n",
    "    \"\"\"音源の位置を計算\n",
    "    parameters\n",
    "    ---\n",
    "    frame ndarray : camera frame\n",
    "    direction str : sound direction\n",
    "    delay int : sound delay\n",
    "    mic_distance : float : distance between microphones (meters)\n",
    "    \"\"\"\n",
    "    # 音の速度 (m/s)\n",
    "    sound_speed = 343.2\n",
    "    \n",
    "    # 遅延時間 (秒)\n",
    "    delay_time = delay / RATE\n",
    "    \n",
    "    # 距離差 (メートル)\n",
    "    distance_diff = delay_time * sound_speed\n",
    "    \n",
    "    # 音源の位置を推定 (簡略化)\n",
    "    x = frame.shape[1] // 2\n",
    "    y = frame.shape[0] // 2\n",
    "    \n",
    "    if direction == \"Left\":\n",
    "        x -= int(distance_diff / mic_distance * frame.shape[1] // 2)\n",
    "    elif direction == \"Right\":\n",
    "        x += int(distance_diff / mic_distance * frame.shape[1] // 2)\n",
    "    \n",
    "    return (x, y)\n",
    "\n",
    "    # height, width, _ = frame.shape\n",
    "    # x = width // 2\n",
    "    # y = height // 2\n",
    "\n",
    "    # # 左右の位置を調整\n",
    "    # if direction == \"Left\":\n",
    "    #     x -= int(width * 0.25)\n",
    "    # elif direction == \"Right\":\n",
    "    #     x += int(width * 0.25)\n",
    "    \n",
    "    # # 簡単な距離の推定（delayに基づく）\n",
    "    # y += int(delay * 0.1)\n",
    "\n",
    "    # return (x, y)"
   ]
  },
  {
   "cell_type": "code",
   "execution_count": null,
   "metadata": {},
   "outputs": [],
   "source": [
    "# カメラの初期化\n",
    "cap = cv2.VideoCapture(0)\n",
    "\n",
    "try:\n",
    "    while True:\n",
    "        # カメラ画像を取得\n",
    "        ret, frame = cap.read()\n",
    "        if not ret:\n",
    "            break\n",
    "        \n",
    "        # 左右の音声データを取得\n",
    "        audio_data_left = get_audio_data(stream_left)\n",
    "        audio_data_right = get_audio_data(stream_right)\n",
    "        \n",
    "        # 音が出ている方向を特定\n",
    "        direction, delay = determine_sound_direction(audio_data_left, audio_data_right)\n",
    "\n",
    "        # デシベルを計算\n",
    "        decibels_left = calculate_decibels(audio_data_left)\n",
    "        decibels_right = calculate_decibels(audio_data_right)\n",
    "        \n",
    "        # 方向に応じてカメラ画像に表示するテキストを設定\n",
    "        if direction == \"Left\":\n",
    "            decibels = decibels_left\n",
    "        elif direction == \"Right\":\n",
    "            decibels = decibels_right\n",
    "        else:\n",
    "            decibels = (decibels_left + decibels_right) / 2\n",
    "        \n",
    "        # 音源の位置を計算\n",
    "        position = calculate_position(frame, direction, delay)\n",
    "        \n",
    "        # カメラ画像にテキストを描画\n",
    "        text = f\"{decibels:.2f} dB\"\n",
    "        cv2.putText(frame, text, position, cv2.FONT_HERSHEY_SIMPLEX, 1, (0, 255, 0), 2, cv2.LINE_AA)\n",
    "        \n",
    "        # カメラ画像を表示\n",
    "        cv2.imshow('Camera', frame)\n",
    "        \n",
    "        # 'q'キーが押されたらループを終了\n",
    "        if cv2.waitKey(1) & 0xFF == ord('q'):\n",
    "            break\n",
    "        \n",
    "        time.sleep(0.1)\n",
    "\n",
    "except KeyboardInterrupt:\n",
    "    print(\"終了します\")\n",
    "\n",
    "finally:\n",
    "    # ストリームを閉じる\n",
    "    stream_left.stop_stream()\n",
    "    stream_left.close()\n",
    "    stream_right.stop_stream()\n",
    "    stream_right.close()\n",
    "    p.terminate()\n",
    "    \n",
    "    # カメラを解放\n",
    "    cap.release()\n",
    "    cv2.destroyAllWindows()\n"
   ]
  },
  {
   "cell_type": "code",
   "execution_count": 2,
   "metadata": {},
   "outputs": [
    {
     "data": {
      "text/plain": [
       "4"
      ]
     },
     "execution_count": 2,
     "metadata": {},
     "output_type": "execute_result"
    }
   ],
   "source": [
    "c = 1 + 1\n",
    "c + 2"
   ]
  },
  {
   "cell_type": "code",
   "execution_count": null,
   "metadata": {},
   "outputs": [],
   "source": []
  }
 ],
 "metadata": {
  "kernelspec": {
   "display_name": "Python 3",
   "language": "python",
   "name": "python3"
  },
  "language_info": {
   "codemirror_mode": {
    "name": "ipython",
    "version": 3
   },
   "file_extension": ".py",
   "mimetype": "text/x-python",
   "name": "python",
   "nbconvert_exporter": "python",
   "pygments_lexer": "ipython3",
   "version": "3.8.7"
  }
 },
 "nbformat": 4,
 "nbformat_minor": 2
}
